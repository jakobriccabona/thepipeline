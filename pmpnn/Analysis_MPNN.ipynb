{
 "cells": [
  {
   "cell_type": "code",
   "execution_count": 1,
   "metadata": {},
   "outputs": [
    {
     "name": "stdout",
     "output_type": "stream",
     "text": [
      "Mutation Counts (sorted by frequency):\n",
      "Position 9: I->T occurs 1 times\n",
      "Position 15: E->T occurs 1 times\n",
      "Position 35: Y->L occurs 1 times\n",
      "Position 44: K->G occurs 1 times\n",
      "Position 79: T->K occurs 1 times\n",
      "Position 88: R->W occurs 1 times\n",
      "Position 111: P->K occurs 1 times\n",
      "Position 120: T->I occurs 1 times\n",
      "Position 134: L->R occurs 1 times\n",
      "Position 199: P->E occurs 1 times\n",
      "Position 200: I->R occurs 1 times\n",
      "Position 231: S->A occurs 1 times\n",
      "Position 263: I->N occurs 1 times\n",
      "Position 266: M->A occurs 1 times\n",
      "Position 293: N->L occurs 1 times\n",
      "Position 318: D->H occurs 1 times\n",
      "Position 347: Y->W occurs 1 times\n",
      "Position 351: L->S occurs 1 times\n",
      "Position 360: K->S occurs 1 times\n"
     ]
    }
   ],
   "source": [
    "from Bio import SeqIO\n",
    "\n",
    "def read_fasta(file_path):\n",
    "    sequences = []\n",
    "    for record in SeqIO.parse(file_path, \"fasta\"):\n",
    "        sequences.append(str(record.seq))\n",
    "    return sequences\n",
    "\n",
    "def read_wild_type(file_path):\n",
    "    for record in SeqIO.parse(file_path, \"fasta\"):\n",
    "        return str(record.seq)\n",
    "\n",
    "def count_mutations(sequences, wild_type):\n",
    "    position_counts = {}\n",
    "    for seq in sequences:\n",
    "        for i, (wt_residue, mut_residue) in enumerate(zip(wild_type, seq)):\n",
    "            if wt_residue != mut_residue:\n",
    "                if i not in position_counts:\n",
    "                    position_counts[i] = {}\n",
    "                if mut_residue in position_counts[i]:\n",
    "                    position_counts[i][mut_residue] += 1\n",
    "                else:\n",
    "                    position_counts[i][mut_residue] = 1\n",
    "    return position_counts\n",
    "\n",
    "def main():\n",
    "    fasta_file = '/home/iwe54/Sophia/pipeline/MACV/MPNN/analysis/MACV_input.fasta'  # Path to your FASTA file\n",
    "    wild_type_file = '/home/iwe54/Sophia/pipeline/MACV/MPNN/analysis/MACV_MPNN.fasta'  # Path to your wild-type FASTA file\n",
    "\n",
    "    sequences = read_fasta(fasta_file)\n",
    "    wild_type = read_wild_type(wild_type_file)\n",
    "    mutation_counts = count_mutations(sequences, wild_type)\n",
    "\n",
    "    # Collect mutations and their counts into a list\n",
    "    mutation_list = []\n",
    "    for position, mutations in mutation_counts.items():\n",
    "        for mutation, count in mutations.items():\n",
    "            mutation_list.append((position + 1, wild_type[position], mutation, count))\n",
    "\n",
    "    # Sort the list by count in descending order\n",
    "    mutation_list.sort(key=lambda x: x[3], reverse=True)\n",
    "\n",
    "    print(\"Mutation Counts (sorted by frequency):\")\n",
    "    for position, wt_residue, mutation, count in mutation_list:\n",
    "        print(f\"Position {position}: {wt_residue}->{mutation} occurs {count} times\")\n",
    "\n",
    "if __name__ == \"__main__\":\n",
    "    main()"
   ]
  }
 ],
 "metadata": {
  "kernelspec": {
   "display_name": "Python 3",
   "language": "python",
   "name": "python3"
  },
  "language_info": {
   "codemirror_mode": {
    "name": "ipython",
    "version": 3
   },
   "file_extension": ".py",
   "mimetype": "text/x-python",
   "name": "python",
   "nbconvert_exporter": "python",
   "pygments_lexer": "ipython3",
   "version": "3.11.5"
  },
  "orig_nbformat": 4,
  "vscode": {
   "interpreter": {
    "hash": "916dbcbb3f70747c44a77c7bcd40155683ae19c65e1c03b4aa3499c5328201f1"
   }
  }
 },
 "nbformat": 4,
 "nbformat_minor": 2
}
